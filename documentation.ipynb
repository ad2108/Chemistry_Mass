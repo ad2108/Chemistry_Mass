{
 "cells": [
  {
   "cell_type": "markdown",
   "id": "090543a7-30f4-4037-8246-9d5f1401f9ff",
   "metadata": {
    "editable": true,
    "slideshow": {
     "slide_type": ""
    },
    "tags": []
   },
   "source": [
    "# Dokumentation Chemistry\n",
    "\n",
    "## 1. Proton, Neutron and Electron\n",
    "\n",
    "### 1.1 Proton\n",
    "\n",
    "The proton class contains the charge and mass of a proton. This class does not take any arguments. This class has 2 methods:"
   ]
  },
  {
   "cell_type": "code",
   "execution_count": 1,
   "id": "10501c78-a7b2-4d9e-8303-d0ded0629e87",
   "metadata": {},
   "outputs": [
    {
     "name": "stdout",
     "output_type": "stream",
     "text": [
      "proton charge: 1\n",
      "proton mass: 1.007276466879\n"
     ]
    }
   ],
   "source": [
    "from proton_neutron_electron import Proton\n",
    "\n",
    "print(f'proton charge: {Proton.charge()}')\n",
    "print(f'proton mass: {Proton.mass()}')"
   ]
  },
  {
   "cell_type": "markdown",
   "id": "52993408-2390-47fc-9274-1a212b00594e",
   "metadata": {},
   "source": [
    "### 1.2 Neutron\n",
    "\n",
    "The neutron class is like the proton class. It can be used the same. The values are different. Charge returns 0 and mass returns 1.008664916."
   ]
  },
  {
   "cell_type": "code",
   "execution_count": 2,
   "id": "a0126f86-bf69-4946-b4d7-0a989c8312ca",
   "metadata": {},
   "outputs": [
    {
     "name": "stdout",
     "output_type": "stream",
     "text": [
      "neutron charge: 0\n",
      "neutron mass: 1.008664916\n"
     ]
    }
   ],
   "source": [
    "from proton_neutron_electron import Neutron\n",
    "\n",
    "print(f'neutron charge: {Neutron.charge()}')\n",
    "print(f'neutron mass: {Neutron.mass()}')"
   ]
  },
  {
   "cell_type": "markdown",
   "id": "ecf88a55-f369-417d-a1f8-2db79ca439eb",
   "metadata": {},
   "source": [
    "### 1.3 Electron\n",
    "\n",
    "The electron class is very comparable. It returns a charge of -1 and a mass of 0.00054857990907."
   ]
  },
  {
   "cell_type": "code",
   "execution_count": 3,
   "id": "2e5b4e68-2e43-43bf-b510-175e450ca9d4",
   "metadata": {},
   "outputs": [
    {
     "name": "stdout",
     "output_type": "stream",
     "text": [
      "electron charge: -1\n",
      "electron mass: 0.00054857990907\n"
     ]
    }
   ],
   "source": [
    "from proton_neutron_electron import Electron\n",
    "\n",
    "print(f'electron charge: {Electron.charge()}')\n",
    "print(f'electron mass: {Electron.mass()}')"
   ]
  },
  {
   "cell_type": "markdown",
   "id": "96e11e31-c1e3-4c01-b57e-6341371f7b46",
   "metadata": {},
   "source": [
    "## 2. Atom\n",
    "\n",
    "### 2.1 Atom class\n",
    "\n",
    "This class take the number of protons, neutrons and elektrons to initialize."
   ]
  },
  {
   "cell_type": "code",
   "execution_count": 4,
   "id": "c9cf6f4b-7a9e-486f-be52-d9c113802718",
   "metadata": {},
   "outputs": [
    {
     "name": "stdout",
     "output_type": "stream",
     "text": [
      "sodium charge: 0\n",
      "sodium mass: 22.181389590668772\n",
      "number of shells: 3\n",
      "electrons in outher shell: 1\n"
     ]
    }
   ],
   "source": [
    "from atom import Atom\n",
    "\n",
    "sodium = Atom(11, 11, 11)\n",
    "\n",
    "print(f'sodium charge: {sodium.charge()}')\n",
    "print(f'sodium mass: {sodium.mass()}')\n",
    "print(f'number of shells: {sodium.shell_number()}')\n",
    "print(f'electrons in outher shell: {sodium.outher_shell()}')"
   ]
  },
  {
   "cell_type": "markdown",
   "id": "ee0922c2-bb25-49b0-8c1d-c15923b36bce",
   "metadata": {},
   "source": [
    "### 2.2 Periodic table\n",
    "\n",
    "This file contains a major part of the elements in the periodic table. The standart chemical names are used for Atom declaration."
   ]
  },
  {
   "cell_type": "code",
   "execution_count": 5,
   "id": "3dc942de-3afa-405c-a80c-9bbe28a36669",
   "metadata": {},
   "outputs": [
    {
     "name": "stdout",
     "output_type": "stream",
     "text": [
      "lead mass: 208.72476833662174\n",
      "oxygen: protons: 8, mass: 15.123254786304562\n"
     ]
    }
   ],
   "source": [
    "from periodic_table import PeriodicTable as PT\n",
    "\n",
    "lead = PT.Pb()\n",
    "oxygen = PT.O()\n",
    "\n",
    "#all atom methods can be used\n",
    "print(f'lead mass: {lead.mass()}')\n",
    "print(f'oxygen: {oxygen}')"
   ]
  },
  {
   "cell_type": "code",
   "execution_count": 6,
   "id": "5fd53484-6cbe-4f30-a9f6-8d010c6cf5da",
   "metadata": {},
   "outputs": [
    {
     "name": "stdout",
     "output_type": "stream",
     "text": [
      "['Ac', 'Ag', 'Al', 'Am', 'Ar', 'As', 'At', 'Au', 'B', 'Ba', 'Be', 'Bh', 'Bi', 'Bk', 'Br', 'C', 'Ca', 'Cd', 'Ce', 'Cf', 'Cl', 'Cm', 'Cn', 'Co', 'Cs', 'Cu', 'Db', 'Ds', 'Dy', 'Er', 'Es', 'Eu', 'F', 'Fe', 'Fl', 'Fm', 'Fr', 'Ga', 'Gd', 'Ge', 'H', 'He', 'Hg', 'Ho', 'Hs', 'I', 'In', 'Ir', 'Ka', 'Kr', 'La', 'Lf', 'Li', 'Lr', 'Lu', 'Lv', 'Mc', 'Md', 'Mg', 'Mn', 'Mo', 'Mt', 'N', 'Na', 'Nb', 'Nd', 'Ne', 'Nh', 'Ni', 'No', 'Np', 'O', 'Og', 'Os', 'P', 'Pa', 'Pb', 'Pd', 'Pm', 'Po', 'Pr', 'Pt', 'Pu', 'Ra', 'Rb', 'Re', 'Rf', 'Rg', 'Rh', 'Rn', 'Ru', 'S', 'Sb', 'Sc', 'Se', 'Sg', 'Si', 'Sm', 'Sn', 'Sr', 'Ta', 'Tb', 'Tc', 'Te', 'Th', 'Ti', 'Tl', 'Tm', 'Ts', 'U', 'V', 'Vr', 'W', 'Xe', 'Y', 'Yb', 'Zn', 'Zr', '__class__', '__delattr__', '__dict__', '__dir__', '__doc__', '__eq__', '__format__', '__ge__', '__getattribute__', '__getstate__', '__gt__', '__hash__', '__init__', '__init_subclass__', '__le__', '__lt__', '__module__', '__ne__', '__new__', '__reduce__', '__reduce_ex__', '__repr__', '__setattr__', '__sizeof__', '__str__', '__subclasshook__', '__weakref__']\n"
     ]
    }
   ],
   "source": [
    "from periodic_table import PeriodicTable as PT\n",
    "print(dir(PT))"
   ]
  },
  {
   "cell_type": "markdown",
   "id": "352568c8-a072-4609-ba8a-dea637beec20",
   "metadata": {},
   "source": [
    "## 3. Molecule\n",
    "\n",
    "### 3.1 Molecule class\n",
    "\n",
    "This class takes lists of atoms and their numbers im a list."
   ]
  },
  {
   "cell_type": "code",
   "execution_count": 7,
   "id": "5468e6e4-66d3-410f-b8a3-0d0abc33ff8e",
   "metadata": {},
   "outputs": [
    {
     "name": "stdout",
     "output_type": "stream",
     "text": [
      "water charge: 0\n",
      "water mass: 17.1389048798807\n"
     ]
    }
   ],
   "source": [
    "from molecule import Molecule\n",
    "from periodic_table import PeriodicTable as PT\n",
    "\n",
    "water = Molecule([PT.H(), PT.O()], [2, 1])\n",
    "#the first list takes the atoms. The periodic table can be used\n",
    "#the second take the amount of the atoms. H2O -> 2 * H, 1 * O\n",
    "\n",
    "print(f'water charge: {water.charge()}')\n",
    "print(f'water mass: {water.mass()}')"
   ]
  },
  {
   "cell_type": "markdown",
   "id": "5c506e16-7adc-4d57-9683-bbf93a932960",
   "metadata": {},
   "source": [
    "### 3.2 Molecule table\n",
    "\n",
    "This is a list of common molecules."
   ]
  },
  {
   "cell_type": "code",
   "execution_count": 8,
   "id": "8dcdd32b-fdf4-47df-b7a7-a82babafff68",
   "metadata": {},
   "outputs": [
    {
     "name": "stdout",
     "output_type": "stream",
     "text": [
      "ethanol charge: 0\n",
      "sulfuric acid mass: 94.77250864340351\n"
     ]
    }
   ],
   "source": [
    "from molecule_table import ImportantMolecules as IM\n",
    "\n",
    "ethanol = IM.Ethanol()\n",
    "sulfuric_acid = IM.SulfuricAcid()\n",
    "\n",
    "#this class can use all the molecule operations\n",
    "print(f'ethanol charge: {ethanol.charge()}')\n",
    "print(f'sulfuric acid mass: {sulfuric_acid.mass()}')"
   ]
  },
  {
   "cell_type": "code",
   "execution_count": 9,
   "id": "ac3df01f-c95f-4ded-ba91-b562d57ed2d7",
   "metadata": {},
   "outputs": [
    {
     "name": "stdout",
     "output_type": "stream",
     "text": [
      "['AceticAcid', 'Acetone', 'Acetylene', 'AcetylsalicylicAcid', 'Adenine', 'AdenosineTriphosphate', 'AdipicAcid', 'Adrenaline', 'AluminumIIIOxide', 'Ammonia', 'AscorbicAcid', 'Aspartame', 'Benzene', 'BenzoicAcid', 'Biphenyl', 'Butane', 'Butene', 'ButyricAcid', 'CFC12', 'Caffeine', 'CalciumCarbonate', 'CalciumOxide', 'CalciumSulfate', 'CarbonDioxide', 'CarbonMonoxide', 'Chloroform', 'Chlorophyll', 'Cholesterol', 'CitricAcid', 'Cocaine', 'Cytosine', 'DDT', 'DEET', 'DinitrogenOxide', 'Dopamine', 'EDTA', 'Ethane', 'Ethanol', 'Ethene', 'Ether', 'Fluoxetine', 'Formaldehyde', 'FormicAdid', 'Glucose', 'Glycerin', 'Guanine', 'HydrochloricAcid', 'HydrogenPeroxide', 'HydrogenSulfide', 'Ibuprofen', 'Indigo', 'Insulin', 'IronIIIOxide', 'Isooctane', 'Isoprene', 'Methane', 'Methanol', 'Morphine', 'Naphtalene', 'Nicotine', 'NitricAcid', 'NitricDioxide', 'NitrogenMonoxide', 'Nitroglycerin', 'Norethidrone', 'Penicilin', 'Phenol', 'PhosphoricAcid', 'Piperine', 'PotassiumCarbonate', 'PotassiumNitrate', 'Propane', 'Propylene', 'Quinine', 'Ritalin', 'Saccharin', 'SiliconDioxide', 'SodiumBicarbonate', 'SodiumCarbonate', 'SodiumChloride', 'SodiumHydroxide', 'SodiumHypochloride', 'Strychnine', 'Styrene', 'Sucrose', 'SulfuricAcid', 'THC', 'TNT', 'Tetrafluorethylene', 'Thymine', 'Toluene', 'TriuraniumOctaoxide', 'Uracil', 'Urea', 'Vanillin', 'VinylChloride', 'Water', 'Xylene', '__class__', '__delattr__', '__dict__', '__dir__', '__doc__', '__eq__', '__format__', '__ge__', '__getattribute__', '__getstate__', '__gt__', '__hash__', '__init__', '__init_subclass__', '__le__', '__lt__', '__module__', '__ne__', '__new__', '__reduce__', '__reduce_ex__', '__repr__', '__setattr__', '__sizeof__', '__str__', '__subclasshook__', '__weakref__']\n"
     ]
    }
   ],
   "source": [
    "from molecule_table import ImportantMolecules as IM\n",
    "print(dir(IM))"
   ]
  },
  {
   "cell_type": "markdown",
   "id": "26d7a331-46d2-4e9a-9e98-df4e6c53942c",
   "metadata": {},
   "source": [
    "## 4. Substance\n",
    "\n",
    "### 4.1 Substance class\n",
    "\n",
    "A substance is a mixture of molecules. It take a list of molecules and their percentages as input."
   ]
  },
  {
   "cell_type": "code",
   "execution_count": 10,
   "id": "b4723580-5fc0-4103-b2a0-fa7df4b14a44",
   "metadata": {},
   "outputs": [
    {
     "name": "stdout",
     "output_type": "stream",
     "text": [
      "brine mass: 18.550506644677185\n"
     ]
    }
   ],
   "source": [
    "from substance import Substance\n",
    "from molecule_table import ImportantMolecules as IM\n",
    "\n",
    "brine = Substance([IM.SodiumChloride(), IM.Water()], [3.5, 96.5])\n",
    "#the first list contains the molecules salt(NaCl) and water (H2O)\n",
    "#the second list contains the percentages of the molecules\n",
    "#(3.5% salt and 96.5% water)\n",
    "\n",
    "print(f'brine mass: {brine.mass()}')"
   ]
  },
  {
   "cell_type": "markdown",
   "id": "252af292-6d5e-4c6e-8695-516953b8e10c",
   "metadata": {},
   "source": [
    "### 4.2 Substance table\n",
    "\n",
    "Not implemented by now"
   ]
  },
  {
   "cell_type": "markdown",
   "id": "53faff69-2060-4a37-8878-8480002f3ef7",
   "metadata": {},
   "source": [
    "## 5. Komplex example"
   ]
  },
  {
   "cell_type": "code",
   "execution_count": 12,
   "id": "d85a762a-18fb-4fbe-813c-ecf9b83ade39",
   "metadata": {},
   "outputs": [
    {
     "name": "stdout",
     "output_type": "stream",
     "text": [
      "ionized water mass: 18.424428743986702\n",
      "ionized water charge: -0.034\n"
     ]
    }
   ],
   "source": [
    "#water with S04-2 Ions\n",
    "\n",
    "from atom import Atom\n",
    "from periodic_table import PeriodicTable as PT\n",
    "from molecule import Molecule\n",
    "from molecule_table import ImportantMolecules as IM\n",
    "from substance import Substance\n",
    "\n",
    "sulfur_2 = Atom(16, 16, 18) #standart sulfur PT could also be used\n",
    "\n",
    "so4_2 = Molecule([sulfur_2, PT.O()], [1, 4])\n",
    "#this Ion as a negative charge, because the sulfur has excess 2 electrons \n",
    "#this makes the Ion negative\n",
    "\n",
    "ionized_water = Substance([IM.Water(), so4_2], [98.3 ,1.7])\n",
    "#this is water that contains 98.3% water and 1.7% SO4-2 Ions\n",
    "\n",
    "print(f'ionized water mass: {ionized_water.mass()}')\n",
    "print(f'ionized water charge: {ionized_water.charge()}')"
   ]
  },
  {
   "cell_type": "code",
   "execution_count": null,
   "id": "a699e957-9b25-43ac-aa5f-375dc134ef4f",
   "metadata": {},
   "outputs": [],
   "source": []
  }
 ],
 "metadata": {
  "kernelspec": {
   "display_name": "Python 3 (ipykernel)",
   "language": "python",
   "name": "python3"
  },
  "language_info": {
   "codemirror_mode": {
    "name": "ipython",
    "version": 3
   },
   "file_extension": ".py",
   "mimetype": "text/x-python",
   "name": "python",
   "nbconvert_exporter": "python",
   "pygments_lexer": "ipython3",
   "version": "3.12.9"
  }
 },
 "nbformat": 4,
 "nbformat_minor": 5
}
